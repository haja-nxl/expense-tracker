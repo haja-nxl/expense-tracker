{
 "cells": [
  {
   "cell_type": "code",
   "execution_count": 10,
   "id": "4b03c548",
   "metadata": {},
   "outputs": [
    {
     "name": "stdout",
     "output_type": "stream",
     "text": [
      "hi my name is Mohamed Haja\n",
      "i am learning AI with social eagle\n",
      "tutors are Thiru and Manoj\n"
     ]
    }
   ],
   "source": [
    "file = open(\"test.txt\", 'r')\n",
    "content = file.read()\n",
    "print(content)"
   ]
  },
  {
   "cell_type": "code",
   "execution_count": 11,
   "id": "93b04981",
   "metadata": {},
   "outputs": [
    {
     "name": "stdout",
     "output_type": "stream",
     "text": [
      "hi my name is Mohamed Haja\n",
      "i am learning AI with social eagle\n",
      "tutors are Thiru and Manoj\n"
     ]
    }
   ],
   "source": [
    "# Open the file in read mode\n",
    "with open('test.txt', 'r') as file:\n",
    "    content = file.read()\n",
    "    print(content)"
   ]
  },
  {
   "cell_type": "code",
   "execution_count": 12,
   "id": "e3157e63",
   "metadata": {},
   "outputs": [
    {
     "name": "stdout",
     "output_type": "stream",
     "text": [
      "hi my name is Mohamed Haja\n",
      "i am learning AI with social eagle\n",
      "tutors are Thiru and Manoj\n"
     ]
    }
   ],
   "source": [
    "from pathlib import Path\n",
    "\n",
    "content = Path('test.txt').read_text()\n",
    "print(content)"
   ]
  },
  {
   "cell_type": "code",
   "execution_count": 13,
   "id": "35090359",
   "metadata": {},
   "outputs": [
    {
     "name": "stdout",
     "output_type": "stream",
     "text": [
      "Messages written to 'messages.txt' successfully!\n"
     ]
    }
   ],
   "source": [
    "# Writing messages to a file\n",
    "messages = [\n",
    "    \"Are you doing AI Gen architect?\",\n",
    "    \"Wish you all the best!\"\n",
    "]\n",
    "\n",
    "with open('test.txt', 'w') as file:\n",
    "    for msg in messages:\n",
    "        file.write(msg + \"\\n\")  # Write each message on a new line\n",
    "\n",
    "print(\"Messages written to 'messages.txt' successfully!\")"
   ]
  }
 ],
 "metadata": {
  "kernelspec": {
   "display_name": "haja",
   "language": "python",
   "name": "python3"
  },
  "language_info": {
   "codemirror_mode": {
    "name": "ipython",
    "version": 3
   },
   "file_extension": ".py",
   "mimetype": "text/x-python",
   "name": "python",
   "nbconvert_exporter": "python",
   "pygments_lexer": "ipython3",
   "version": "3.11.0"
  }
 },
 "nbformat": 4,
 "nbformat_minor": 5
}
